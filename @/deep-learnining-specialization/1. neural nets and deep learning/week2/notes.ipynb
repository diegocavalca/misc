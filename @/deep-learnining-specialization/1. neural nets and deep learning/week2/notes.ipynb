{
 "cells": [
  {
   "cell_type": "code",
   "execution_count": 1,
   "metadata": {},
   "outputs": [
    {
     "data": {
      "text/plain": [
       "(3, 3)"
      ]
     },
     "execution_count": 1,
     "metadata": {},
     "output_type": "execute_result"
    }
   ],
   "source": [
    "import numpy as np\n",
    "\n",
    "a = np.random.rand(3, 3);\n",
    "b = np.random.rand(3, 1);\n",
    "c = a * b\n",
    "\n",
    "c.shape\n",
    "c"
   ]
  },
  {
   "cell_type": "code",
   "execution_count": 18,
   "metadata": {},
   "outputs": [
    {
     "name": "stdout",
     "output_type": "stream",
     "text": [
      "[[ 1.40629718  1.38121908  1.84216811  1.01377473]\n",
      " [ 1.25134035  1.11044429  1.7155195   1.30701795]\n",
      " [ 0.7002182   0.5838147   1.01980742  1.30817003]]\n",
      "[[ 1.40629718  1.21140892  1.41265454  0.30503218]\n",
      " [ 1.42115051  1.11044429  1.45581609  0.76808557]\n",
      " [ 1.12973177  0.84351811  1.01980742  1.02894106]]\n"
     ]
    }
   ],
   "source": [
    "a = np.random.rand(3, 4);\n",
    "b = np.random.rand(4, 1);\n",
    "\n",
    "c = np.zeros(a.shape)\n",
    "for i in range(3):\n",
    "    for j in range(4):\n",
    "        c[i][j] = a[i][j] + b[i]\n",
    "print(c)\n",
    "\n",
    "c = a + b.T\n",
    "print(c)"
   ]
  },
  {
   "cell_type": "code",
   "execution_count": null,
   "metadata": {
    "collapsed": true
   },
   "outputs": [],
   "source": []
  }
 ],
 "metadata": {
  "kernelspec": {
   "display_name": "Python 3",
   "language": "python",
   "name": "python3"
  },
  "language_info": {
   "codemirror_mode": {
    "name": "ipython",
    "version": 3
   },
   "file_extension": ".py",
   "mimetype": "text/x-python",
   "name": "python",
   "nbconvert_exporter": "python",
   "pygments_lexer": "ipython3",
   "version": "3.6.1"
  }
 },
 "nbformat": 4,
 "nbformat_minor": 2
}
