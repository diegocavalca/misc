{
 "cells": [
  {
   "cell_type": "markdown",
   "metadata": {},
   "source": [
    "# <font color='blue'>Data Science Academy - Deep Learning II</font>"
   ]
  },
  {
   "cell_type": "markdown",
   "metadata": {
    "collapsed": true
   },
   "source": [
    "# GridSearch\n",
    "\n"
   ]
  },
  {
   "cell_type": "markdown",
   "metadata": {},
   "source": [
    "Usando Scikit-Learn e Keras para Busca em Grid do melhor valor de batch size e epochs"
   ]
  },
  {
   "cell_type": "code",
   "execution_count": 1,
   "metadata": {
    "collapsed": true
   },
   "outputs": [],
   "source": [
    "# Forçando o Keras a utilizar a CPU\n",
    "import os\n",
    "os.environ[\"CUDA_DEVICE_ORDER\"] = \"PCI_BUS_ID\"  \n",
    "os.environ[\"CUDA_VISIBLE_DEVICES\"] = \"\""
   ]
  },
  {
   "cell_type": "code",
   "execution_count": 2,
   "metadata": {},
   "outputs": [
    {
     "name": "stderr",
     "output_type": "stream",
     "text": [
      "Using TensorFlow backend.\n"
     ]
    }
   ],
   "source": [
    "# Import dos Módulos\n",
    "import numpy\n",
    "from sklearn.model_selection import GridSearchCV\n",
    "from keras.models import Sequential\n",
    "from keras.layers import Dense\n",
    "from keras.wrappers.scikit_learn import KerasClassifier"
   ]
  },
  {
   "cell_type": "markdown",
   "metadata": {},
   "source": [
    "Função para criar o modelo necessário para o KerasClassifier"
   ]
  },
  {
   "cell_type": "code",
   "execution_count": 3,
   "metadata": {
    "collapsed": true
   },
   "outputs": [],
   "source": [
    "def create_model():\n",
    "    model = Sequential()\n",
    "    model.add(Dense(12, input_dim = 8, activation = 'relu'))\n",
    "    model.add(Dense(1, activation = 'sigmoid'))\n",
    "    \n",
    "    # Compila o modelo\n",
    "    model.compile(loss = 'binary_crossentropy', optimizer = 'adam', metrics = ['accuracy'])\n",
    "    return model"
   ]
  },
  {
   "cell_type": "markdown",
   "metadata": {},
   "source": [
    "Prepara o modelo e aplica Grid Search\n",
    "\n",
    "Dataset: https://archive.ics.uci.edu/ml/datasets/pima+indians+diabetes"
   ]
  },
  {
   "cell_type": "code",
   "execution_count": 4,
   "metadata": {},
   "outputs": [
    {
     "name": "stdout",
     "output_type": "stream",
     "text": [
      "Melhor Score: 0.704427 usando {'batch_size': 10, 'epochs': 100}\n",
      "0.572917 (0.045143) com: {'batch_size': 10, 'epochs': 10}\n",
      "0.694010 (0.012075) com: {'batch_size': 10, 'epochs': 50}\n",
      "0.704427 (0.008027) com: {'batch_size': 10, 'epochs': 100}\n",
      "0.614583 (0.024360) com: {'batch_size': 20, 'epochs': 10}\n",
      "0.348958 (0.024774) com: {'batch_size': 20, 'epochs': 50}\n",
      "0.348958 (0.024774) com: {'batch_size': 20, 'epochs': 100}\n",
      "0.348958 (0.024774) com: {'batch_size': 40, 'epochs': 10}\n",
      "0.632813 (0.028705) com: {'batch_size': 40, 'epochs': 50}\n",
      "0.656250 (0.027621) com: {'batch_size': 40, 'epochs': 100}\n",
      "0.631510 (0.035564) com: {'batch_size': 60, 'epochs': 10}\n",
      "0.636719 (0.022326) com: {'batch_size': 60, 'epochs': 50}\n",
      "0.562500 (0.157837) com: {'batch_size': 60, 'epochs': 100}\n",
      "0.638021 (0.042830) com: {'batch_size': 80, 'epochs': 10}\n",
      "0.634115 (0.029635) com: {'batch_size': 80, 'epochs': 50}\n",
      "0.658854 (0.017566) com: {'batch_size': 80, 'epochs': 100}\n",
      "0.493490 (0.129333) com: {'batch_size': 100, 'epochs': 10}\n",
      "0.528646 (0.103317) com: {'batch_size': 100, 'epochs': 50}\n",
      "0.660156 (0.015947) com: {'batch_size': 100, 'epochs': 100}\n"
     ]
    }
   ],
   "source": [
    "# Valor de seed para reproducibilidade\n",
    "seed = 7\n",
    "numpy.random.seed(seed)\n",
    "\n",
    "# Carrega o dataset\n",
    "dataset = numpy.loadtxt(\"data/pima-indians-diabetes.csv\", delimiter=\",\")\n",
    "\n",
    "# Split em treino e teste\n",
    "X = dataset[:,0:8]\n",
    "Y = dataset[:,8]\n",
    "\n",
    "# Cria o modelo\n",
    "model = KerasClassifier(build_fn = create_model, verbose = 0)\n",
    "\n",
    "# Define os parâmetros para o Grid Search\n",
    "batch_size = [10, 20, 40, 60, 80, 100]\n",
    "epochs = [10, 50, 100]\n",
    "param_grid = dict(batch_size = batch_size, epochs = epochs)\n",
    "\n",
    "# Grid Search\n",
    "grid = GridSearchCV(estimator = model, param_grid = param_grid, n_jobs = -1)\n",
    "grid_result = grid.fit(X, Y)\n",
    "\n",
    "# Sumariza os resultados\n",
    "print(\"Melhor Score: %f usando %s\" % (grid_result.best_score_, grid_result.best_params_))\n",
    "means = grid_result.cv_results_['mean_test_score']\n",
    "stds = grid_result.cv_results_['std_test_score']\n",
    "params = grid_result.cv_results_['params']\n",
    "for mean, stdev, param in zip(means, stds, params):\n",
    "    print(\"%f (%f) com: %r\" % (mean, stdev, param))"
   ]
  },
  {
   "cell_type": "markdown",
   "metadata": {},
   "source": [
    "# Fim"
   ]
  }
 ],
 "metadata": {
  "anaconda-cloud": {},
  "kernelspec": {
   "display_name": "Python 3",
   "language": "python",
   "name": "python3"
  },
  "language_info": {
   "codemirror_mode": {
    "name": "ipython",
    "version": 3
   },
   "file_extension": ".py",
   "mimetype": "text/x-python",
   "name": "python",
   "nbconvert_exporter": "python",
   "pygments_lexer": "ipython3",
   "version": "3.6.1"
  }
 },
 "nbformat": 4,
 "nbformat_minor": 1
}
