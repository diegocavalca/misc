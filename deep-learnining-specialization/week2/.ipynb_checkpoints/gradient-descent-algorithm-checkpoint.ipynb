{
 "cells": [
  {
   "cell_type": "code",
   "execution_count": 12,
   "metadata": {},
   "outputs": [
    {
     "ename": "SyntaxError",
     "evalue": "invalid syntax (<ipython-input-12-34e3f4c588bb>, line 7)",
     "output_type": "error",
     "traceback": [
      "\u001b[0;36m  File \u001b[0;32m\"<ipython-input-12-34e3f4c588bb>\"\u001b[0;36m, line \u001b[0;32m7\u001b[0m\n\u001b[0;31m    z[i] = w[]\u001b[0m\n\u001b[0m             ^\u001b[0m\n\u001b[0;31mSyntaxError\u001b[0m\u001b[0;31m:\u001b[0m invalid syntax\n"
     ]
    }
   ],
   "source": [
    "J = 0\n",
    "dw1 = 0\n",
    "dw2 = 0\n",
    "db = 0\n",
    "\n",
    "for i in range(m):\n",
    "    z[i] = w.T*x + b\n",
    "    a[i] = o(z[i])\n",
    "    J += -( y[i] * log(a(i)) + (1-y[i]) * log(1-a(i)) )\n",
    "    dz[i] = a[i] - y[i]\n",
    "    dw1 += x[i,1] * dz[i]\n",
    "    dw2 += x[i,2] * dz[i]\n",
    "    db += dz[i]   \n",
    "J /= m\n",
    "dw1 /= m\n",
    "dw2 /= m\n",
    "db /= m\n",
    "\n",
    "# Ajustando pelo gradiente\n",
    "w1 = w1 - alpha*dw1\n",
    "w2 = w2 - alpha*dw2\n",
    "b = b - alpha*db"
   ]
  }
 ],
 "metadata": {
  "kernelspec": {
   "display_name": "Python 3",
   "language": "python",
   "name": "python3"
  },
  "language_info": {
   "codemirror_mode": {
    "name": "ipython",
    "version": 3
   },
   "file_extension": ".py",
   "mimetype": "text/x-python",
   "name": "python",
   "nbconvert_exporter": "python",
   "pygments_lexer": "ipython3",
   "version": "3.6.1"
  }
 },
 "nbformat": 4,
 "nbformat_minor": 2
}
