{
 "cells": [
  {
   "cell_type": "code",
   "execution_count": 12,
   "metadata": {},
   "outputs": [
    {
     "ename": "SyntaxError",
     "evalue": "invalid syntax (<ipython-input-12-34e3f4c588bb>, line 7)",
     "output_type": "error",
     "traceback": [
      "\u001b[0;36m  File \u001b[0;32m\"<ipython-input-12-34e3f4c588bb>\"\u001b[0;36m, line \u001b[0;32m7\u001b[0m\n\u001b[0;31m    z[i] = w[]\u001b[0m\n\u001b[0m             ^\u001b[0m\n\u001b[0;31mSyntaxError\u001b[0m\u001b[0;31m:\u001b[0m invalid syntax\n"
     ]
    }
   ],
   "source": [
    "J = 0    # Valor da Funcao de Custo\n",
    "dw1 = 0  # Gradiente dL/dw1\n",
    "dw2 = 0  # Gradiente dL/dw2\n",
    "db = 0   # Gradiente dL/db\n",
    "\n",
    "# Para cada exemplo, realizar regressao, calcular o erro e obter gradiente\n",
    "for i in range(m):\n",
    "    z[i] = w.T*x + b # Equacao base (linear)\n",
    "    a[i] = o(z[i])   # Funcao logistica (sigmoid)\n",
    "    J += -( y[i] * log(a(i)) + (1-y[i]) * log(1-a(i)) ) # Funcao de Erro - p/ amostra\n",
    "    dz[i] = a[i] - y[i]   # Gradiente dL/dz - p/ amostra\n",
    "    dw1 += x[i,1] * dz[i] # Gradiente dL/dw1 - p/ amostra\n",
    "    dw2 += x[i,2] * dz[i] # Gradiente dL/dw2 - p/ amostra\n",
    "    db += dz[i]           # Gradiente dL/db - p/ amostra\n",
    "# Ajustar pelo numero de amostras\n",
    "J /= m \n",
    "dw1 /= m  # ...\n",
    "dw2 /= m  # ...\n",
    "db /= m   # ...\n",
    "\n",
    "# Ajustando pelo gradiente\n",
    "w1 = w1 - alpha*dw1\n",
    "w2 = w2 - alpha*dw2\n",
    "b = b - alpha*db"
   ]
  }
 ],
 "metadata": {
  "kernelspec": {
   "display_name": "Python 3",
   "language": "python",
   "name": "python3"
  },
  "language_info": {
   "codemirror_mode": {
    "name": "ipython",
    "version": 3
   },
   "file_extension": ".py",
   "mimetype": "text/x-python",
   "name": "python",
   "nbconvert_exporter": "python",
   "pygments_lexer": "ipython3",
   "version": "3.6.1"
  }
 },
 "nbformat": 4,
 "nbformat_minor": 2
}
